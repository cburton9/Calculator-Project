{
 "cells": [
  {
   "cell_type": "markdown",
   "id": "361bfad6-9ab5-4c84-8a80-b6548c4e99ed",
   "metadata": {},
   "source": [
    "# Calculator Project"
   ]
  },
  {
   "cell_type": "code",
   "execution_count": 20,
   "id": "5a60561c-1c66-4da5-bc21-5ba1fdddb4a2",
   "metadata": {},
   "outputs": [],
   "source": [
    "# Building the Calculations for Addition, Multiplication, Subtraction, Divison\n",
    "\n",
    "def add(x,y):\n",
    "    return x + y\n",
    "def subtract(x,y):\n",
    "    return x - y\n",
    "def multiply(x,y):\n",
    "    return x * y\n",
    "def divide(x,y):\n",
    "    return x / y\n"
   ]
  },
  {
   "cell_type": "code",
   "execution_count": 9,
   "id": "e984424d-f1e4-4677-bde4-e4ed5d80ec48",
   "metadata": {},
   "outputs": [
    {
     "name": "stdin",
     "output_type": "stream",
     "text": [
      "Enter Choice(A, S,M, D) : a\n",
      "Enter first number 2\n",
      "Enter second number 3\n"
     ]
    }
   ],
   "source": [
    "#Creating our user inputs, having the user specify add , sub multiply or divide\n",
    "\n",
    "choice = input('Enter Choice(A, S,M, D) : ')\n",
    "\n",
    "num1 = float(input('Enter first number'))\n",
    "\n",
    "num2 = float(input('Enter second number'))"
   ]
  },
  {
   "cell_type": "code",
   "execution_count": 27,
   "id": "1d14a92b-9eff-4774-9c45-b39eea206f20",
   "metadata": {},
   "outputs": [
    {
     "name": "stdout",
     "output_type": "stream",
     "text": [
      "Enter A for Addition\n",
      "Enter S for Subtraction\n",
      "Enter M for Multiplication\n",
      "Enter D for Divison\n"
     ]
    },
    {
     "name": "stdin",
     "output_type": "stream",
     "text": [
      "Enter Choice (A,S,M,D) :  d\n",
      "Enter first number 4\n",
      "Enter second number 2\n"
     ]
    },
    {
     "name": "stdout",
     "output_type": "stream",
     "text": [
      "Result: 4.0 / 2.0 = 2.0\n"
     ]
    }
   ],
   "source": [
    "# Creating an if statement to check if the user input the correct choice\n",
    "\n",
    "print(\"Enter A for Addition\")\n",
    "print(\"Enter S for Subtraction\")\n",
    "print(\"Enter M for Multiplication\")\n",
    "print(\"Enter D for Divison\")\n",
    "\n",
    "choice = input('Enter Choice (A,S,M,D) : ')\n",
    "\n",
    "if choice.upper() in ('A','ADD','ADDITION','S','SUBTRACT','SUBTRACTION','M','MULTIPLE','MULTIPLICATION','D','DIVIDE','DIVISON'):\n",
    "    num1 = float(input('Enter first number'))\n",
    "    num2 = float(input('Enter second number'))\n",
    "    \n",
    "    if  choice.upper() in ('A','ADD','ADDITION'):\n",
    "        print('Result:', num1,'+', num2, '=', add(num1, num2))\n",
    "\n",
    "    elif  choice.upper() in ('S','SUBTRACT','SUBTRACTION'):\n",
    "        print('Result:',num1,'-', num2, '=', subtract(num1, num2))\n",
    "\n",
    "    elif  choice.upper() in ('M','MULTIPLY','MULTIPLICATION'):\n",
    "        print('Result:',num1,'*', num2, '=', multiply(num1, num2))\n",
    "\n",
    "    elif  choice.upper() in ('D','DIVIDE','DIVISON'):\n",
    "        print('Result:',num1,'/', num2, '=', divide(num1, num2))\n",
    "\n",
    "else:\n",
    "    print(\"Please Input a correct choice\")\n",
    "\n",
    "\n",
    "\n",
    "\n",
    "\n",
    "\n",
    "\n",
    "\n",
    "\n"
   ]
  },
  {
   "cell_type": "code",
   "execution_count": 37,
   "id": "ea026e25-c862-4617-9fba-8ff0e7b48ec2",
   "metadata": {},
   "outputs": [
    {
     "name": "stdout",
     "output_type": "stream",
     "text": [
      "Enter A for Addition\n",
      "Enter S for Subtraction\n",
      "Enter M for Multiplication\n",
      "Enter D for Divison\n"
     ]
    },
    {
     "name": "stdin",
     "output_type": "stream",
     "text": [
      "Enter Choice (A,S,M,D) :  A\n",
      "Enter first number 10\n",
      "Enter second number 20\n"
     ]
    },
    {
     "name": "stdout",
     "output_type": "stream",
     "text": [
      "Result: 10.0 + 20.0 = 30.0\n"
     ]
    },
    {
     "name": "stdin",
     "output_type": "stream",
     "text": [
      "want to do another calucation? (Yes/No?):  Yes\n",
      "Enter Choice (A,S,M,D) :  S\n",
      "Enter first number 75\n",
      "Enter second number 77\n"
     ]
    },
    {
     "name": "stdout",
     "output_type": "stream",
     "text": [
      "Result: 75.0 - 77.0 = -2.0\n"
     ]
    },
    {
     "name": "stdin",
     "output_type": "stream",
     "text": [
      "want to do another calucation? (Yes/No?):  Yes\n",
      "Enter Choice (A,S,M,D) :  M \n"
     ]
    },
    {
     "name": "stdout",
     "output_type": "stream",
     "text": [
      "Please Input a correct choice\n"
     ]
    },
    {
     "name": "stdin",
     "output_type": "stream",
     "text": [
      "want to do another calucation? (Yes/No?):  YEs\n",
      "Enter Choice (A,S,M,D) :  M\n",
      "Enter first number 10\n",
      "Enter second number 230\n"
     ]
    },
    {
     "name": "stdout",
     "output_type": "stream",
     "text": [
      "Result: 10.0 * 230.0 = 2300.0\n"
     ]
    },
    {
     "name": "stdin",
     "output_type": "stream",
     "text": [
      "want to do another calucation? (Yes/No?):  no\n"
     ]
    }
   ],
   "source": [
    "# Creating an if statement to check if the user input the correct choice, and putting into a while loop so users can continue to keep using the calculator\n",
    "\n",
    "print(\"Enter A for Addition\")\n",
    "print(\"Enter S for Subtraction\")\n",
    "print(\"Enter M for Multiplication\")\n",
    "print(\"Enter D for Divison\")\n",
    "\n",
    "while True: \n",
    "    choice = input('Enter Choice (A,S,M,D) : ')\n",
    "    if choice.upper() in ('A','ADD','ADDITION','S','SUBTRACT','SUBTRACTION','M','MULTIPLE','MULTIPLICATION','D','DIVIDE','DIVISON'):\n",
    "        num1 = float(input('Enter first number'))\n",
    "        num2 = float(input('Enter second number'))\n",
    "        \n",
    "        if  choice.upper() in ('A','ADD','ADDITION'):\n",
    "            print('Result:', num1,'+', num2, '=', add(num1, num2))\n",
    "    \n",
    "        elif  choice.upper() in ('S','SUBTRACT','SUBTRACTION'):\n",
    "            print('Result:',num1,'-', num2, '=', subtract(num1, num2))\n",
    "    \n",
    "        elif  choice.upper() in ('M','MULTIPLY','MULTIPLICATION'):\n",
    "            print('Result:',num1,'*', num2, '=', multiply(num1, num2))\n",
    "    \n",
    "        elif  choice.upper() in ('D','DIVIDE','DIVISON'):\n",
    "            print('Result:',num1,'/', num2, '=', divide(num1, num2))\n",
    "    \n",
    "    else:\n",
    "        print(\"Please Input a correct choice\")\n",
    "\n",
    "    next_calculation = input(\"want to do another calucation? (Yes/No?): \")\n",
    "    if next_calculation.lower() in ('no','n','nope','nah'):\n",
    "        break\n"
   ]
  },
  {
   "cell_type": "code",
   "execution_count": null,
   "id": "578beead-60f5-4df3-8fc9-cb2ca2129e50",
   "metadata": {},
   "outputs": [],
   "source": []
  },
  {
   "cell_type": "code",
   "execution_count": null,
   "id": "90089dec-a912-434d-adf6-392534352b0c",
   "metadata": {},
   "outputs": [],
   "source": []
  },
  {
   "cell_type": "code",
   "execution_count": null,
   "id": "87fe6f13-a1db-4a0e-9ecf-ca5671581edf",
   "metadata": {},
   "outputs": [],
   "source": []
  },
  {
   "cell_type": "code",
   "execution_count": null,
   "id": "ce6a6128-6e83-480f-860a-7cc5e43caf6d",
   "metadata": {},
   "outputs": [],
   "source": []
  },
  {
   "cell_type": "code",
   "execution_count": null,
   "id": "ef24f056-705f-4219-ab19-4b06afd8f31f",
   "metadata": {},
   "outputs": [],
   "source": []
  },
  {
   "cell_type": "code",
   "execution_count": null,
   "id": "56a784c7-a4ef-4ce9-b5dd-a72c531283ac",
   "metadata": {},
   "outputs": [],
   "source": []
  },
  {
   "cell_type": "code",
   "execution_count": null,
   "id": "cd5e0496-cc85-43c0-97e6-fb77b1e37dfa",
   "metadata": {},
   "outputs": [],
   "source": []
  },
  {
   "cell_type": "code",
   "execution_count": null,
   "id": "23a4d1a5-dd14-46ac-b7d7-e4d8a0533da5",
   "metadata": {},
   "outputs": [],
   "source": []
  },
  {
   "cell_type": "code",
   "execution_count": null,
   "id": "a9e74a9f-dede-4425-a262-d144a4327a43",
   "metadata": {},
   "outputs": [],
   "source": []
  },
  {
   "cell_type": "code",
   "execution_count": null,
   "id": "ecd158dd-a9d8-45f7-8a2e-f41bde0d974e",
   "metadata": {},
   "outputs": [],
   "source": []
  },
  {
   "cell_type": "code",
   "execution_count": null,
   "id": "b3a216ed-39bf-4df4-b1fe-71e79156bda2",
   "metadata": {},
   "outputs": [],
   "source": []
  },
  {
   "cell_type": "code",
   "execution_count": null,
   "id": "bba2fcce-3b86-4a92-97bc-0f7af058b5b5",
   "metadata": {},
   "outputs": [],
   "source": []
  },
  {
   "cell_type": "code",
   "execution_count": null,
   "id": "f701fa5e-b93f-4db4-9299-72cf8de29bf7",
   "metadata": {},
   "outputs": [],
   "source": []
  },
  {
   "cell_type": "code",
   "execution_count": null,
   "id": "40acb948-b9fa-4e3d-a76c-4bab195718ee",
   "metadata": {},
   "outputs": [],
   "source": []
  },
  {
   "cell_type": "code",
   "execution_count": null,
   "id": "8a94b5d9-7faa-4726-afe3-627768e60dcb",
   "metadata": {},
   "outputs": [],
   "source": []
  },
  {
   "cell_type": "code",
   "execution_count": null,
   "id": "356b7355-2103-400f-b981-bd61b31283f4",
   "metadata": {},
   "outputs": [],
   "source": []
  },
  {
   "cell_type": "code",
   "execution_count": null,
   "id": "ddb3c96a-4123-454c-beee-f48cde223aad",
   "metadata": {},
   "outputs": [],
   "source": []
  },
  {
   "cell_type": "code",
   "execution_count": null,
   "id": "b0b34c70-68d1-45ed-8599-2ee79b337182",
   "metadata": {},
   "outputs": [],
   "source": []
  },
  {
   "cell_type": "code",
   "execution_count": null,
   "id": "9c3c49f8-0568-4647-b9df-92807955e4e6",
   "metadata": {},
   "outputs": [],
   "source": []
  },
  {
   "cell_type": "code",
   "execution_count": null,
   "id": "68fa8bf5-4b65-4ec8-865a-4297ad27dbc1",
   "metadata": {},
   "outputs": [],
   "source": []
  },
  {
   "cell_type": "code",
   "execution_count": null,
   "id": "64953564-1b98-4338-8097-055ee9e527fe",
   "metadata": {},
   "outputs": [],
   "source": []
  },
  {
   "cell_type": "code",
   "execution_count": null,
   "id": "8c5e1d46-6e0e-46c3-b943-f92d7f634432",
   "metadata": {},
   "outputs": [],
   "source": []
  },
  {
   "cell_type": "code",
   "execution_count": null,
   "id": "bd5f5966-82d8-4d61-be54-5346a43f9722",
   "metadata": {},
   "outputs": [],
   "source": []
  },
  {
   "cell_type": "code",
   "execution_count": null,
   "id": "83c9a1bc-9326-4bc0-b9fa-d0a7c5e8ea13",
   "metadata": {},
   "outputs": [],
   "source": []
  },
  {
   "cell_type": "code",
   "execution_count": null,
   "id": "de6beec4-b1e1-41d4-9603-2bf0c40451bb",
   "metadata": {},
   "outputs": [],
   "source": []
  },
  {
   "cell_type": "code",
   "execution_count": null,
   "id": "18b41dbe-f344-4861-bc82-cda783d8188c",
   "metadata": {},
   "outputs": [],
   "source": []
  },
  {
   "cell_type": "code",
   "execution_count": null,
   "id": "233ddf76-3212-45f8-b553-78aff040c200",
   "metadata": {},
   "outputs": [],
   "source": []
  },
  {
   "cell_type": "code",
   "execution_count": null,
   "id": "358c7eee-3817-4c78-89f5-fad64ee81eb1",
   "metadata": {},
   "outputs": [],
   "source": []
  },
  {
   "cell_type": "code",
   "execution_count": null,
   "id": "45d5fd96-7488-4c5f-a6c2-047d640abc0e",
   "metadata": {},
   "outputs": [],
   "source": []
  },
  {
   "cell_type": "code",
   "execution_count": null,
   "id": "0017e6cc-1558-4714-8ce0-33579aa0676c",
   "metadata": {},
   "outputs": [],
   "source": []
  },
  {
   "cell_type": "code",
   "execution_count": null,
   "id": "11a52add-634e-4724-a83c-ecd3cf77e5c8",
   "metadata": {},
   "outputs": [],
   "source": []
  },
  {
   "cell_type": "code",
   "execution_count": null,
   "id": "1f091751-660f-449d-a43c-b163cc2386d4",
   "metadata": {},
   "outputs": [],
   "source": []
  },
  {
   "cell_type": "code",
   "execution_count": null,
   "id": "10096afe-869c-4cd5-b4aa-2ef36c6ef01e",
   "metadata": {},
   "outputs": [],
   "source": []
  },
  {
   "cell_type": "code",
   "execution_count": null,
   "id": "5497ae1f-294d-493b-b580-406fecfc55b4",
   "metadata": {},
   "outputs": [],
   "source": []
  },
  {
   "cell_type": "code",
   "execution_count": null,
   "id": "b8b90759-e973-40be-a765-d06754551e6c",
   "metadata": {},
   "outputs": [],
   "source": []
  },
  {
   "cell_type": "code",
   "execution_count": null,
   "id": "f0f78036-51e9-4443-9e3b-75e4a6f55d2d",
   "metadata": {},
   "outputs": [],
   "source": []
  },
  {
   "cell_type": "code",
   "execution_count": null,
   "id": "7835d993-ce95-435c-8cef-37cd7746bc6c",
   "metadata": {},
   "outputs": [],
   "source": []
  },
  {
   "cell_type": "code",
   "execution_count": null,
   "id": "06a0f642-c1c6-4788-a82a-5d5a07f7fc97",
   "metadata": {},
   "outputs": [],
   "source": []
  },
  {
   "cell_type": "code",
   "execution_count": null,
   "id": "8034ff7f-0e96-4e01-8fcb-382e485f0e94",
   "metadata": {},
   "outputs": [],
   "source": []
  },
  {
   "cell_type": "code",
   "execution_count": null,
   "id": "0eddeca5-edef-4510-b42a-7635f3c6a454",
   "metadata": {},
   "outputs": [],
   "source": []
  },
  {
   "cell_type": "code",
   "execution_count": null,
   "id": "ef6f2a1c-6b8b-4457-8fa4-888e601a0b96",
   "metadata": {},
   "outputs": [],
   "source": []
  },
  {
   "cell_type": "code",
   "execution_count": null,
   "id": "adb765a7-e84f-45df-99ff-f450a689c1a8",
   "metadata": {},
   "outputs": [],
   "source": []
  },
  {
   "cell_type": "code",
   "execution_count": null,
   "id": "171666ab-2d12-4fa8-85da-8cc0bd82c631",
   "metadata": {},
   "outputs": [],
   "source": []
  },
  {
   "cell_type": "code",
   "execution_count": null,
   "id": "b246403e-9223-4fa4-94cb-7d7d1ad8eb6e",
   "metadata": {},
   "outputs": [],
   "source": []
  },
  {
   "cell_type": "code",
   "execution_count": null,
   "id": "96ec4663-a12a-4237-aab6-1dadbdd913ee",
   "metadata": {},
   "outputs": [],
   "source": []
  },
  {
   "cell_type": "code",
   "execution_count": null,
   "id": "22195c5e-9760-4010-973d-13c229dd08c6",
   "metadata": {},
   "outputs": [],
   "source": []
  },
  {
   "cell_type": "code",
   "execution_count": null,
   "id": "515db4a6-50b5-4fe2-bc40-7f71c62d9b21",
   "metadata": {},
   "outputs": [],
   "source": []
  },
  {
   "cell_type": "code",
   "execution_count": null,
   "id": "d55a0855-63c3-4aea-b93c-e9c6da147a1e",
   "metadata": {},
   "outputs": [],
   "source": []
  },
  {
   "cell_type": "code",
   "execution_count": null,
   "id": "605469a6-1cb9-464a-93c1-99a5cdb231d2",
   "metadata": {},
   "outputs": [],
   "source": []
  },
  {
   "cell_type": "code",
   "execution_count": null,
   "id": "ca6b3b5c-0934-4588-bf68-2fdb47147027",
   "metadata": {},
   "outputs": [],
   "source": []
  },
  {
   "cell_type": "code",
   "execution_count": null,
   "id": "5d32fa88-ee10-4900-974e-3725ba31c2c1",
   "metadata": {},
   "outputs": [],
   "source": []
  },
  {
   "cell_type": "code",
   "execution_count": null,
   "id": "7c0a36c7-b7d8-4454-928c-fe402803f4e1",
   "metadata": {},
   "outputs": [],
   "source": []
  },
  {
   "cell_type": "code",
   "execution_count": null,
   "id": "70b4500b-6ab9-408c-87f3-80feff9e06cd",
   "metadata": {},
   "outputs": [],
   "source": []
  },
  {
   "cell_type": "code",
   "execution_count": null,
   "id": "5418d6a7-f2f0-4fa0-8303-5d60e9399d92",
   "metadata": {},
   "outputs": [],
   "source": []
  },
  {
   "cell_type": "code",
   "execution_count": null,
   "id": "75e8691e-a223-4feb-9203-443c71323123",
   "metadata": {},
   "outputs": [],
   "source": []
  },
  {
   "cell_type": "code",
   "execution_count": null,
   "id": "f3dabc88-52ba-416f-b64a-d9964efa8557",
   "metadata": {},
   "outputs": [],
   "source": []
  },
  {
   "cell_type": "code",
   "execution_count": null,
   "id": "3f22ffbf-30d1-4535-baa7-56b028f6243b",
   "metadata": {},
   "outputs": [],
   "source": []
  },
  {
   "cell_type": "code",
   "execution_count": null,
   "id": "50d12fd0-d127-408a-8e50-bdd792661890",
   "metadata": {},
   "outputs": [],
   "source": []
  },
  {
   "cell_type": "code",
   "execution_count": null,
   "id": "216cf99f-bba9-4909-8a64-6f010c156154",
   "metadata": {},
   "outputs": [],
   "source": []
  },
  {
   "cell_type": "code",
   "execution_count": null,
   "id": "76118034-125a-4169-80e7-46b80f27551f",
   "metadata": {},
   "outputs": [],
   "source": []
  }
 ],
 "metadata": {
  "kernelspec": {
   "display_name": "Python 3 (ipykernel)",
   "language": "python",
   "name": "python3"
  },
  "language_info": {
   "codemirror_mode": {
    "name": "ipython",
    "version": 3
   },
   "file_extension": ".py",
   "mimetype": "text/x-python",
   "name": "python",
   "nbconvert_exporter": "python",
   "pygments_lexer": "ipython3",
   "version": "3.11.7"
  }
 },
 "nbformat": 4,
 "nbformat_minor": 5
}
